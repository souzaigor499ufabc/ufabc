{
 "cells": [
  {
   "cell_type": "code",
   "execution_count": 1,
   "metadata": {},
   "outputs": [],
   "source": [
    "RA = input(\"Digite o seu RA: \")"
   ]
  },
  {
   "cell_type": "code",
   "execution_count": 2,
   "metadata": {},
   "outputs": [
    {
     "name": "stdout",
     "output_type": "stream",
     "text": [
      "Soma dos dígitos do RA: 23\n"
     ]
    }
   ],
   "source": [
    "velocidade = 0\n",
    "for i in RA:\n",
    "    if i.isdigit():\n",
    "        velocidade += int(i)\n",
    "\n",
    "print(\"Soma dos dígitos do RA:\", velocidade)\n",
    "\n",
    "velocidade *=2"
   ]
  },
  {
   "cell_type": "code",
   "execution_count": 3,
   "metadata": {},
   "outputs": [],
   "source": [
    "gravidade = 9.8\n",
    "altura = velocidade**2 / (2 * gravidade)    "
   ]
  },
  {
   "cell_type": "code",
   "execution_count": 4,
   "metadata": {},
   "outputs": [
    {
     "name": "stdout",
     "output_type": "stream",
     "text": [
      "A altura máxima que o objeto atinge é de 107.96 metros.\n"
     ]
    }
   ],
   "source": [
    "print('A altura máxima que o objeto atinge é de {:.2f} metros.'.format(altura))"
   ]
  }
 ],
 "metadata": {
  "kernelspec": {
   "display_name": "base",
   "language": "python",
   "name": "python3"
  },
  "language_info": {
   "codemirror_mode": {
    "name": "ipython",
    "version": 3
   },
   "file_extension": ".py",
   "mimetype": "text/x-python",
   "name": "python",
   "nbconvert_exporter": "python",
   "pygments_lexer": "ipython3",
   "version": "3.12.7"
  }
 },
 "nbformat": 4,
 "nbformat_minor": 2
}
