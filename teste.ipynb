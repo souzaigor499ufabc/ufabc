{
 "cells": [
  {
   "cell_type": "markdown",
   "metadata": {},
   "source": [
    "### Atividade 1\n",
    "Um projétil é lançado verticalmente para cima, a partir do solo, com velocidade inicial  (v0\n",
    " em m/s). O projétil está sujeito apenas à gravidade (g= 9,8 m/s2). Para personalizar o exercício, cada aluno deve calcular a altura máxima atingida pelo projétil usando como valor de  v0\n",
    " a soma dos dígitos do seu RA multiplicada por 2.\n",
    "\n",
    "Tarefas:\n",
    " • Solicite ao usuário o número do RA.\n",
    " • Calcule a soma dos dígitos do RA.\n",
    " • Defina  (soma dos dígitos do RA).\n",
    " • Calcule e imprima a altura máxima atingida pelo projétil usando a expressão:  hmax=v202g\n",
    "\n",
    " • Mostre o valor de  utilizado e a altura máxima calculada.\n",
    "![alt text]({16F09714-91A4-49FC-85E5-966330EBD2F0}.png)\n",
    " "
   ]
  },
  {
   "cell_type": "code",
   "execution_count": 1,
   "metadata": {},
   "outputs": [],
   "source": [
    "RA = input(\"Digite o seu RA: \")"
   ]
  },
  {
   "cell_type": "code",
   "execution_count": 2,
   "metadata": {},
   "outputs": [
    {
     "name": "stdout",
     "output_type": "stream",
     "text": [
      "Soma dos dígitos do RA: 23\n"
     ]
    }
   ],
   "source": [
    "velocidade = 0\n",
    "for i in RA:\n",
    "    if i.isdigit():\n",
    "        velocidade += int(i)\n",
    "\n",
    "print(\"Soma dos dígitos do RA:\", velocidade)\n",
    "\n",
    "velocidade *=2"
   ]
  },
  {
   "cell_type": "code",
   "execution_count": 3,
   "metadata": {},
   "outputs": [],
   "source": [
    "gravidade = 9.8\n",
    "altura = velocidade**2 / (2 * gravidade)    "
   ]
  },
  {
   "cell_type": "code",
   "execution_count": 4,
   "metadata": {},
   "outputs": [
    {
     "name": "stdout",
     "output_type": "stream",
     "text": [
      "A altura máxima que o objeto atinge é de 107.96 metros.\n"
     ]
    }
   ],
   "source": [
    "print('A altura máxima que o objeto atinge é de {:.2f} metros.'.format(altura))"
   ]
  }
 ],
 "metadata": {
  "kernelspec": {
   "display_name": "base",
   "language": "python",
   "name": "python3"
  },
  "language_info": {
   "codemirror_mode": {
    "name": "ipython",
    "version": 3
   },
   "file_extension": ".py",
   "mimetype": "text/x-python",
   "name": "python",
   "nbconvert_exporter": "python",
   "pygments_lexer": "ipython3",
   "version": "3.12.7"
  }
 },
 "nbformat": 4,
 "nbformat_minor": 2
}
