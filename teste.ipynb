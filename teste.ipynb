{
 "cells": [
  {
   "cell_type": "markdown",
   "metadata": {},
   "source": [
    "### Atividade 1\n",
    "Um projétil é lançado verticalmente para cima, a partir do solo, com velocidade inicial  (v0\n",
    " em m/s). O projétil está sujeito apenas à gravidade (g= 9,8 m/s2). Para tornar o exercício único para cada aluno, defina a altura inicial  (h0\n",
    " como sendo igual à soma dos dígitos do seu RA multiplicada por 3 (ou seja,  soma dos dígitos do RA).\n",
    "\n",
    "Tarefas:\n",
    "\n",
    "Solicitar o número do RA.\n",
    "• Calcular a soma dos dígitos do RA.\n",
    "• Definir  h0\n",
    " (soma dos dígitos do RA).\n",
    "• Solicitar ao usuário a velocidade inicial  (em m/s).\n",
    "• Calcular e imprimir o tempo total que o corpo leva para atingir o solo após o lançamento, considerando a altura inicial .\n",
    "Use a equação do movimento vertical para determinar o tempo total de voo:\n",
    " \n",
    "h(t)=h0+v0t−12gt2\n",
    " \n",
    "O tempo total corresponde ao instante em que h(t)=0\n",
    " \n",
    "![alt text]({87D8E8E4-12F3-4B3C-B8FB-86DEF29819D0}.png)\n",
    "\n",
    "![alt text]({1AC63571-70F0-488E-A35A-C9B207B0FE99}.png)\n",
    " "
   ]
  },
  {
   "cell_type": "code",
   "execution_count": 20,
   "metadata": {},
   "outputs": [],
   "source": [
    "RA = input(\"Digite o seu RA: \")"
   ]
  },
  {
   "cell_type": "code",
   "execution_count": 21,
   "metadata": {},
   "outputs": [
    {
     "name": "stdout",
     "output_type": "stream",
     "text": [
      "Soma dos dígitos do RA: 23\n",
      "Altura inicial: 69\n"
     ]
    }
   ],
   "source": [
    "h0 = 0\n",
    "for i in RA:\n",
    "    if i.isdigit():\n",
    "        h0 += int(i)\n",
    "\n",
    "print(\"Soma dos dígitos do RA:\", h0)\n",
    "\n",
    "h0 *=3\n",
    "\n",
    "print(\"Altura inicial (h0):\", h0)"
   ]
  },
  {
   "cell_type": "code",
   "execution_count": 22,
   "metadata": {},
   "outputs": [],
   "source": [
    "gravidade = 9.8"
   ]
  },
  {
   "cell_type": "code",
   "execution_count": 23,
   "metadata": {},
   "outputs": [],
   "source": [
    "velocidade = 'n'\n",
    "while type(velocidade) != float:\n",
    "    try:\n",
    "        velocidade = float(input(\"Digite a velocidade (em m/s): \"))\n",
    "    except ValueError:\n",
    "        print(\"Por favor, digite um número válido.\")"
   ]
  },
  {
   "cell_type": "code",
   "execution_count": 24,
   "metadata": {},
   "outputs": [
    {
     "data": {
      "text/plain": [
       "200.0"
      ]
     },
     "execution_count": 24,
     "metadata": {},
     "output_type": "execute_result"
    }
   ],
   "source": [
    "velocidade"
   ]
  },
  {
   "cell_type": "code",
   "execution_count": 25,
   "metadata": {},
   "outputs": [
    {
     "name": "stdout",
     "output_type": "stream",
     "text": [
      "O tempo total de voo é: 41.16 segundos.\n"
     ]
    }
   ],
   "source": [
    "a = -0.5 * gravidade\n",
    "b = velocidade\n",
    "c = h0\n",
    "\n",
    "\n",
    "delta = b**2 - 4*a*c\n",
    "\n",
    "if delta < 0:\n",
    "    print(\"A equação não possui solução real.\")\n",
    "else:\n",
    "    t1 = (-b + delta** 0.5) / (2 * a)\n",
    "    t2 = (-b - delta** 0.5) / (2 * a)\n",
    "\n",
    "\n",
    "    tempo_total = max(t1, t2)\n",
    "    print(f\"O tempo total de voo é: {tempo_total:.2f} segundos.\")\n",
    "    "
   ]
  }
 ],
 "metadata": {
  "kernelspec": {
   "display_name": "base",
   "language": "python",
   "name": "python3"
  },
  "language_info": {
   "codemirror_mode": {
    "name": "ipython",
    "version": 3
   },
   "file_extension": ".py",
   "mimetype": "text/x-python",
   "name": "python",
   "nbconvert_exporter": "python",
   "pygments_lexer": "ipython3",
   "version": "3.12.7"
  }
 },
 "nbformat": 4,
 "nbformat_minor": 2
}
